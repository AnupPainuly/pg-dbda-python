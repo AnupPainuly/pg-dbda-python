{
 "cells": [
  {
   "cell_type": "code",
   "execution_count": 3,
   "id": "2b699e8a",
   "metadata": {
    "collapsed": true
   },
   "outputs": [],
   "source": [
    "import numpy as np\n"
   ]
  },
  {
   "cell_type": "code",
   "execution_count": 21,
   "id": "3d8a1f46",
   "metadata": {},
   "outputs": [
    {
     "name": "stdout",
     "output_type": "stream",
     "text": [
      "[1 2 3]\n",
      "row and columns of the array (1, 3, 3)\n",
      "dimension of the array 3\n",
      "datatype of the array ele int64\n"
     ]
    }
   ],
   "source": [
    "#One dimensional numpy array\n",
    "a=np.array([1,2,3])\n",
    "print(a)\n",
    "\n",
    "#print shape which is row x column\n",
    "print(\"row and columns of the array\",c.shape)\n",
    "#print dimension of the numpy array\n",
    "print(\"dimension of the array\",c.ndim)\n",
    "print(\"datatype of the array ele\",c.dtype)"
   ]
  },
  {
   "cell_type": "code",
   "execution_count": 20,
   "id": "66a694da",
   "metadata": {},
   "outputs": [
    {
     "name": "stdout",
     "output_type": "stream",
     "text": [
      "[[1 2 3]\n",
      " [3 2 1]]\n",
      "row and columns of the array (2, 3)\n",
      "dimension of the array 2\n",
      "datatype of the array ele int64\n"
     ]
    }
   ],
   "source": [
    "#Two dimensional numpy array\n",
    "b=np.array([[1,2,3],[3,2,1]])\n",
    "print(b)\n",
    "print(\"row and columns of the array\",b.shape)\n",
    "print(\"dimension of the array\",b.ndim)\n",
    "print(\"datatype of the array ele\",c.dtype)"
   ]
  },
  {
   "cell_type": "code",
   "execution_count": 24,
   "id": "3914e14b",
   "metadata": {},
   "outputs": [
    {
     "name": "stdout",
     "output_type": "stream",
     "text": [
      "[[[1 2 3]\n",
      "  [4 5 6]\n",
      "  [7 8 9]]]\n",
      "row and columns of the array (1, 3, 3)\n",
      "dimension of the array 3\n",
      "datatype of the array ele int16\n",
      "size of element 2\n",
      "size of array 9\n"
     ]
    }
   ],
   "source": [
    "c=np.array([[[1,2,3],[4,5,6],[7,8,9]]],dtype='int16')\n",
    "print(c)\n",
    "print(\"row and columns of the array\",c.shape)\n",
    "print(\"dimension of the array\",c.ndim)\n",
    "print(\"datatype of the array ele\",c.dtype)\n",
    "print(\"size of element\",c.itemsize)\n",
    "print(\"size of array\",c.size)"
   ]
  },
  {
   "cell_type": "code",
   "execution_count": 35,
   "id": "55062a35",
   "metadata": {},
   "outputs": [
    {
     "name": "stdout",
     "output_type": "stream",
     "text": [
      "[[[1 2]\n",
      "  [3 4]]\n",
      "\n",
      " [[5 6]\n",
      "  [7 8]]]\n",
      "row and columns of the array (2, 2, 2)\n",
      "dimension of the array 3\n",
      "datatype of the array ele int64\n",
      "size of element 8\n",
      "size of array 8\n"
     ]
    }
   ],
   "source": [
    "d=np.array([[[1,2],[3,4]],[[5,6],[7,8]]])\n",
    "print(d)\n",
    "print(\"row and columns of the array\",d.shape)\n",
    "print(\"dimension of the array\",d.ndim)\n",
    "print(\"datatype of the array ele\",d.dtype)\n",
    "print(\"size of element\",d.itemsize)\n",
    "print(\"size of array\",d.size)"
   ]
  },
  {
   "cell_type": "markdown",
   "id": "6720a9cc",
   "metadata": {},
   "source": [
    "## Accessing/Updating specific elements,rows,columns"
   ]
  },
  {
   "cell_type": "code",
   "execution_count": 25,
   "id": "3344a1dc",
   "metadata": {},
   "outputs": [
    {
     "name": "stdout",
     "output_type": "stream",
     "text": [
      "[[ 1  2  3  4  5  6]\n",
      " [ 7  8  9 10 11 12]]\n"
     ]
    },
    {
     "data": {
      "text/plain": [
       "10"
      ]
     },
     "execution_count": 25,
     "metadata": {},
     "output_type": "execute_result"
    }
   ],
   "source": [
    "a = np.array([[1,2,3,4,5,6],[7,8,9,10,11,12]])\n",
    "print(a)\n",
    "#getting specific elemetn [r,c]\n",
    "a[1,3]"
   ]
  },
  {
   "cell_type": "code",
   "execution_count": 26,
   "id": "514224f6",
   "metadata": {},
   "outputs": [
    {
     "data": {
      "text/plain": [
       "array([1, 2, 3, 4, 5, 6])"
      ]
     },
     "execution_count": 26,
     "metadata": {},
     "output_type": "execute_result"
    }
   ],
   "source": [
    "#getting a specific row\n",
    "a[0,:]"
   ]
  },
  {
   "cell_type": "code",
   "execution_count": 27,
   "id": "cdd2e10c",
   "metadata": {},
   "outputs": [
    {
     "data": {
      "text/plain": [
       "array([3, 9])"
      ]
     },
     "execution_count": 27,
     "metadata": {},
     "output_type": "execute_result"
    }
   ],
   "source": [
    "#getting a specific column\n",
    "a[:,2]"
   ]
  },
  {
   "cell_type": "code",
   "execution_count": 28,
   "id": "30b5076c",
   "metadata": {},
   "outputs": [
    {
     "name": "stdout",
     "output_type": "stream",
     "text": [
      "[[ 1  2  3  4  5  1]\n",
      " [ 7  8  9 10 11 12]]\n"
     ]
    }
   ],
   "source": [
    "#updating element\n",
    "a[0,5]=1\n",
    "print(a)"
   ]
  },
  {
   "cell_type": "markdown",
   "id": "84e9def5",
   "metadata": {},
   "source": [
    "## Initializing the elements of array"
   ]
  },
  {
   "cell_type": "code",
   "execution_count": 30,
   "id": "97d21bf1",
   "metadata": {},
   "outputs": [
    {
     "data": {
      "text/plain": [
       "array([[0., 0., 0.],\n",
       "       [0., 0., 0.]])"
      ]
     },
     "execution_count": 30,
     "metadata": {},
     "output_type": "execute_result"
    }
   ],
   "source": [
    "#Initializing with 2 rows and three columns all zeros\n",
    "np.zeros((2,3))"
   ]
  },
  {
   "cell_type": "code",
   "execution_count": 33,
   "id": "3f6cddb4",
   "metadata": {},
   "outputs": [
    {
     "data": {
      "text/plain": [
       "array([[1, 1, 1],\n",
       "       [1, 1, 1]], dtype=int32)"
      ]
     },
     "execution_count": 33,
     "metadata": {},
     "output_type": "execute_result"
    }
   ],
   "source": [
    "#Intializing with 2 rows and three columns all ones\n",
    "np.ones((2,3), dtype='int32')"
   ]
  },
  {
   "cell_type": "code",
   "execution_count": 34,
   "id": "768d2f64",
   "metadata": {},
   "outputs": [
    {
     "data": {
      "text/plain": [
       "array([[999, 999],\n",
       "       [999, 999]])"
      ]
     },
     "execution_count": 34,
     "metadata": {},
     "output_type": "execute_result"
    }
   ],
   "source": [
    "#Init with any other number\n",
    "np.full((2,2), 999)"
   ]
  },
  {
   "cell_type": "code",
   "execution_count": 40,
   "id": "ed89deea",
   "metadata": {},
   "outputs": [
    {
     "data": {
      "text/plain": [
       "array([[[999, 999, 999],\n",
       "        [999, 999, 999],\n",
       "        [999, 999, 999]]])"
      ]
     },
     "execution_count": 40,
     "metadata": {},
     "output_type": "execute_result"
    }
   ],
   "source": [
    "#Init with any number using already built shape.\n",
    "np.full(c.shape,999)"
   ]
  },
  {
   "cell_type": "code",
   "execution_count": 39,
   "id": "7cc15b78",
   "metadata": {},
   "outputs": [
    {
     "data": {
      "text/plain": [
       "array([[[999, 999, 999],\n",
       "        [999, 999, 999],\n",
       "        [999, 999, 999]]], dtype=int16)"
      ]
     },
     "execution_count": 39,
     "metadata": {},
     "output_type": "execute_result"
    }
   ],
   "source": [
    "#Init with any number using already built shape.\n",
    "np.full_like(c,999)"
   ]
  },
  {
   "cell_type": "code",
   "execution_count": 44,
   "id": "66548519",
   "metadata": {},
   "outputs": [
    {
     "data": {
      "text/plain": [
       "array([[0.51719532, 0.47078611],\n",
       "       [0.47624409, 0.49855725],\n",
       "       [0.86838902, 0.28924068],\n",
       "       [0.19240541, 0.10331828]])"
      ]
     },
     "execution_count": 44,
     "metadata": {},
     "output_type": "execute_result"
    }
   ],
   "source": [
    "#Init with random numbers\n",
    "np.random.rand(4,2)"
   ]
  },
  {
   "cell_type": "code",
   "execution_count": 45,
   "id": "58897523",
   "metadata": {},
   "outputs": [
    {
     "data": {
      "text/plain": [
       "array([[[0.33659184, 0.91594466, 0.9280303 ],\n",
       "        [0.53046999, 0.74167728, 0.26420516],\n",
       "        [0.24094213, 0.2110357 , 0.87745557]]])"
      ]
     },
     "execution_count": 45,
     "metadata": {},
     "output_type": "execute_result"
    }
   ],
   "source": [
    "#Init with random numbers using already built shape\n",
    "np.random.random_sample(c.shape)"
   ]
  },
  {
   "cell_type": "code",
   "execution_count": 57,
   "id": "57399722",
   "metadata": {},
   "outputs": [
    {
     "data": {
      "text/plain": [
       "array([[3, 2, 3],\n",
       "       [1, 9, 7],\n",
       "       [5, 6, 5]])"
      ]
     },
     "execution_count": 57,
     "metadata": {},
     "output_type": "execute_result"
    }
   ],
   "source": [
    "#Init with random numbers (1-10) of integers values\n",
    "np.random.randint(1,11,size=(3,3))"
   ]
  },
  {
   "cell_type": "code",
   "execution_count": 58,
   "id": "dcbd0310",
   "metadata": {},
   "outputs": [
    {
     "data": {
      "text/plain": [
       "array([[1., 0., 0., 0., 0.],\n",
       "       [0., 1., 0., 0., 0.],\n",
       "       [0., 0., 1., 0., 0.],\n",
       "       [0., 0., 0., 1., 0.],\n",
       "       [0., 0., 0., 0., 1.]])"
      ]
     },
     "execution_count": 58,
     "metadata": {},
     "output_type": "execute_result"
    }
   ],
   "source": [
    "#Init with indentity matrix\n",
    "np.identity(5)"
   ]
  },
  {
   "cell_type": "code",
   "execution_count": 73,
   "id": "b8a15d6b",
   "metadata": {},
   "outputs": [
    {
     "name": "stdout",
     "output_type": "stream",
     "text": [
      "[[1. 1. 1. 1. 1.]\n",
      " [1. 0. 0. 0. 1.]\n",
      " [1. 0. 9. 0. 1.]\n",
      " [1. 0. 0. 0. 1.]\n",
      " [1. 1. 1. 1. 1.]]\n"
     ]
    }
   ],
   "source": [
    "#excercise for combining basic array inits\n",
    "one_m=np.ones([5,5])\n",
    "zero_m=np.zeros([3,3])\n",
    "zero_m[1,1]=9\n",
    "one_m[1:-1,1:-1]=zero_m\n",
    "print(one_m)"
   ]
  },
  {
   "cell_type": "code",
   "execution_count": null,
   "id": "70757554",
   "metadata": {},
   "outputs": [],
   "source": [
    "## Statstics in numpy"
   ]
  },
  {
   "cell_type": "code",
   "execution_count": 75,
   "id": "aa2d6798",
   "metadata": {},
   "outputs": [
    {
     "data": {
      "text/plain": [
       "array([[1, 2, 3],\n",
       "       [4, 5, 6]])"
      ]
     },
     "execution_count": 75,
     "metadata": {},
     "output_type": "execute_result"
    }
   ],
   "source": [
    "stats=np.array([[1,2,3],[4,5,6]])\n",
    "stats"
   ]
  },
  {
   "cell_type": "code",
   "execution_count": 79,
   "id": "5ebd3267",
   "metadata": {},
   "outputs": [
    {
     "data": {
      "text/plain": [
       "array([1, 4])"
      ]
     },
     "execution_count": 79,
     "metadata": {},
     "output_type": "execute_result"
    }
   ],
   "source": [
    "#minimum in rows\n",
    "np.min(stats,axis=1)"
   ]
  },
  {
   "cell_type": "code",
   "execution_count": 80,
   "id": "862b3bae",
   "metadata": {},
   "outputs": [
    {
     "data": {
      "text/plain": [
       "21"
      ]
     },
     "execution_count": 80,
     "metadata": {},
     "output_type": "execute_result"
    }
   ],
   "source": [
    "#sum of whole array\n",
    "np.sum(stats)"
   ]
  },
  {
   "cell_type": "code",
   "execution_count": 82,
   "id": "c73f7e8b",
   "metadata": {},
   "outputs": [
    {
     "data": {
      "text/plain": [
       "array([5, 7, 9])"
      ]
     },
     "execution_count": 82,
     "metadata": {},
     "output_type": "execute_result"
    }
   ],
   "source": [
    "#sum of columns\n",
    "np.sum(stats,axis=0)"
   ]
  },
  {
   "cell_type": "code",
   "execution_count": 84,
   "id": "9e20344c",
   "metadata": {},
   "outputs": [
    {
     "data": {
      "text/plain": [
       "array([ 6, 15])"
      ]
     },
     "execution_count": 84,
     "metadata": {},
     "output_type": "execute_result"
    }
   ],
   "source": [
    "#sum of rows\n",
    "np.sum(stats,axis=1)"
   ]
  }
 ],
 "metadata": {
  "kernelspec": {
   "display_name": "Python 3 (ipykernel)",
   "language": "python",
   "name": "python3"
  },
  "language_info": {
   "codemirror_mode": {
    "name": "ipython",
    "version": 3
   },
   "file_extension": ".py",
   "mimetype": "text/x-python",
   "name": "python",
   "nbconvert_exporter": "python",
   "pygments_lexer": "ipython3",
   "version": "3.11.2"
  }
 },
 "nbformat": 4,
 "nbformat_minor": 5
}
