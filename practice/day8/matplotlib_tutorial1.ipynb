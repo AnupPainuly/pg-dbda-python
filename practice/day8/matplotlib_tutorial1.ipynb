{
 "cells": [
  {
   "cell_type": "code",
   "execution_count": 55,
   "id": "95d09394",
   "metadata": {},
   "outputs": [],
   "source": [
    "from matplotlib import pyplot as plt\n",
    "ages_x = [25, 26, 27, 28, 29, 30, 31, 32, 33, 34, 35]\n",
    "\n",
    "dev_y = [38496, 42000, 46752, 49320, 53200,56000, 62316, 64928, 67317, 68748, 73752]\n",
    "plt.plot(ages_x,dev_y)\n",
    "plt.xlabel(\"Ages\")\n",
    "plt.ylabel(\"salary\")\n",
    "plt.title(\"Median Salary for devs by age\")"
   ]
  },
  {
   "cell_type": "code",
   "execution_count": 56,
   "id": "f2c44f1f",
   "metadata": {},
   "outputs": [],
   "source": [
    "#line plot\n",
    "py_dev_x = [25, 26, 27, 28, 29, 30, 31, 32, 33, 34, 35]\n",
    "py_dev_y = [45372, 48876, 53850, 57287, 63016,\n",
    "            65998, 70003, 70000, 71496, 75370, 83640]\n",
    "plt.plot(ages_x, py_dev_y, 'k--', label=\"All Devs\") # k is for color black and -- for dashed line\n",
    "plt.plot(ages_x, dev_y, 'b', label=\"Py Devs\") # b is for blue color\n",
    "plt.xlabel(\"age\")\n",
    "plt.ylabel(\"salary\")\n",
    "plt.title(\"Median Salary for Python Devs\")\n",
    "plt.legend()\n"
   ]
  },
  {
   "cell_type": "code",
   "execution_count": 57,
   "id": "213a1cd2",
   "metadata": {},
   "outputs": [],
   "source": [
    "py_dev_x = [25, 26, 27, 28, 29, 30, 31, 32, 33, 34, 35]\n",
    "dev_y = [38496, 42000, 46752, 49320, 53200,56000, \n",
    "         62316, 64928, 67317, 68748, 73752]\n",
    "\n",
    "py_dev_y = [45372, 48876, 53850, 57287, 63016,\n",
    "            65998, 70003, 70000, 71496, 75370, 83640]\n",
    "js_dev_y = [37810, 43515, 46823, 49293, 53437,\n",
    "            56373, 62375, 66674, 68745, 68746, 74583]\n",
    "plt.plot(ages_x, py_dev_y, color='k', linestyle='--', marker='o', label=\"All Devs\")\n",
    "plt.plot(ages_x, dev_y, color='b', marker='.', label=\"Py Devs\")\n",
    "plt.plot(ages_x, js_dev_y,color='magenta', marker='.',label=\"Js Devs\")\n",
    "plt.xlabel(\"age\")\n",
    "plt.ylabel(\"salary\")\n",
    "plt.title(\"Median Salary for Python Devs\")\n",
    "plt.legend()\n",
    "plt.grid()"
   ]
  },
  {
   "cell_type": "code",
   "execution_count": 51,
   "id": "2a6aa86b",
   "metadata": {
    "scrolled": true
   },
   "outputs": [],
   "source": [
    "#built in style\n",
    "py_dev_x = [25, 26, 27, 28, 29, 30, 31, 32, 33, 34, 35]\n",
    "dev_y = [38496, 42000, 46752, 49320, 53200,56000, \n",
    "         62316, 64928, 67317, 68748, 73752]\n",
    "\n",
    "py_dev_y = [45372, 48876, 53850, 57287, 63016,\n",
    "            65998, 70003, 70000, 71496, 75370, 83640]\n",
    "js_dev_y = [37810, 43515, 46823, 49293, 53437,\n",
    "            56373, 62375, 66674, 68745, 68746, 74583]\n",
    "plt.plot(ages_x, py_dev_y, linestyle='--', marker='o', label=\"All Devs\")\n",
    "plt.plot(ages_x, dev_y, marker='.', label=\"Py Devs\")\n",
    "plt.plot(ages_x, js_dev_y, marker='.',label=\"Js Devs\")\n",
    "plt.xlabel(\"age\")\n",
    "plt.ylabel(\"salary\")\n",
    "plt.title(\"Median Salary for Python Devs\")\n",
    "plt.legend()\n",
    "plt.style.use('fivethirtyeight')"
   ]
  }
 ],
 "metadata": {
  "kernelspec": {
   "display_name": "Python 3 (ipykernel)",
   "language": "python",
   "name": "python3"
  },
  "language_info": {
   "codemirror_mode": {
    "name": "ipython",
    "version": 3
   },
   "file_extension": ".py",
   "mimetype": "text/x-python",
   "name": "python",
   "nbconvert_exporter": "python",
   "pygments_lexer": "ipython3",
   "version": "3.11.2"
  }
 },
 "nbformat": 4,
 "nbformat_minor": 5
}
